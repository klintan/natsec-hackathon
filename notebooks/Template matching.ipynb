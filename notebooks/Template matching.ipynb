{
 "cells": [
  {
   "cell_type": "markdown",
   "id": "0f057668-7dde-4da6-9f29-95603062fbb7",
   "metadata": {},
   "source": [
    "## Template matching using FLANN and SIFT"
   ]
  },
  {
   "cell_type": "code",
   "execution_count": 4,
   "id": "97f8657d-ff99-418d-977e-85fc1fbd196a",
   "metadata": {},
   "outputs": [],
   "source": [
    "import cv2\n",
    "import numpy as np"
   ]
  },
  {
   "cell_type": "code",
   "execution_count": 5,
   "id": "2e93b46e-1e03-428b-8b4d-30f5c7c9bbcd",
   "metadata": {},
   "outputs": [],
   "source": [
    "def extract_features(image, bbox, feature_extractor):\n",
    "    \"\"\" Extract features from the specified bounding box in the image. \"\"\"\n",
    "    x, y, w, h = bbox\n",
    "    roi = image[y:y+h, x:x+w]\n",
    "    keypoints, descriptors = feature_extractor.detectAndCompute(roi, None)\n",
    "    return keypoints, descriptors, roi"
   ]
  },
  {
   "cell_type": "code",
   "execution_count": 6,
   "id": "f912e5b1-ce13-4465-9d4b-cd8627eb0c68",
   "metadata": {},
   "outputs": [],
   "source": [
    "def match_features(descriptors1, descriptors2):\n",
    "    \"\"\" Match features using FLANN based matcher. \"\"\"\n",
    "    FLANN_INDEX_KDTREE = 0\n",
    "    index_params = dict(algorithm=FLANN_INDEX_KDTREE, trees=5)\n",
    "    search_params = dict(checks=50)\n",
    "\n",
    "    flann = cv2.FlannBasedMatcher(index_params, search_params)\n",
    "    matches = flann.knnMatch(descriptors1, descriptors2, k=2)\n",
    "    # Filter matches using the Lowe's ratio test\n",
    "    good_matches = []\n",
    "    for m, n in matches:\n",
    "        if m.distance < 0.7*n.distance:\n",
    "            good_matches.append(m)\n",
    "    return good_matches"
   ]
  },
  {
   "cell_type": "code",
   "execution_count": null,
   "id": "ec1fc512-723b-4258-9493-8361ffee2c58",
   "metadata": {},
   "outputs": [],
   "source": [
    "def find_bbox_shift(good_matches, keypoints1, keypoints2):\n",
    "    \"\"\" Calculate the shift in bounding box based on matched features. \"\"\"\n",
    "    if not good_matches:\n",
    "        return 0, 0  # No shift if no good matches found\n",
    "\n",
    "    dxs = []\n",
    "    dys = []\n",
    "    for match in good_matches:\n",
    "        pt1 = keypoints1[match.queryIdx].pt\n",
    "        pt2 = keypoints2[match.trainIdx].pt\n",
    "        dxs.append(pt2[0] - pt1[0])\n",
    "        dys.append(pt2[1] - pt1[1])\n",
    "    shift_x = np.mean(dxs)\n",
    "    shift_y = np.mean(dys)\n",
    "    return int(shift_x), int(shift_y)\n"
   ]
  },
  {
   "cell_type": "code",
   "execution_count": null,
   "id": "4b734720-f496-41fa-9046-80e67e483cab",
   "metadata": {},
   "outputs": [],
   "source": [
    "# Load images\n",
    "image1 = cv2.imread('frame1.jpg')\n",
    "image2 = cv2.imread('frame2.jpg')\n",
    "\n",
    "# Define bounding boxes\n",
    "bbox1 = (100, 100, 50, 50)  # x, y, width, height\n",
    "bbox2 = (95, 95, 60, 60)  # Slightly larger and extended bounding box\n",
    "\n",
    "# Create SIFT feature extractor\n",
    "sift = cv2.SIFT_create()\n",
    "\n",
    "# Extract features from both images\n",
    "keypoints1, descriptors1, _ = extract_features(image1, bbox1, sift)\n",
    "keypoints2, descriptors2, _ = extract_features(image2, bbox2, sift)\n",
    "\n",
    "# Match features\n",
    "good_matches = match_features(descriptors1, descriptors2)\n",
    "\n",
    "# Find bounding box shift\n",
    "shift_x, shift_y = find_bbox_shift(good_matches, keypoints1, keypoints2)\n",
    "print(f\"Suggested bounding box shift: {shift_x} px in x direction, {shift_y} px in y direction\")\n"
   ]
  }
 ],
 "metadata": {
  "kernelspec": {
   "display_name": "Python 3 (ipykernel)",
   "language": "python",
   "name": "python3"
  },
  "language_info": {
   "codemirror_mode": {
    "name": "ipython",
    "version": 3
   },
   "file_extension": ".py",
   "mimetype": "text/x-python",
   "name": "python",
   "nbconvert_exporter": "python",
   "pygments_lexer": "ipython3",
   "version": "3.11.4"
  }
 },
 "nbformat": 4,
 "nbformat_minor": 5
}
